{
 "cells": [
  {
   "cell_type": "markdown",
   "metadata": {},
   "source": [
    "## Strætó EDA"
   ]
  },
  {
   "cell_type": "markdown",
   "metadata": {},
   "source": [
    "### Having a look at the files in \"gtfs.zip\" found at https://opendata.straeto.is/data/gtfs/."
   ]
  },
  {
   "cell_type": "code",
   "execution_count": 2,
   "metadata": {},
   "outputs": [
    {
     "name": "stdout",
     "output_type": "stream",
     "text": [
      "Showing head for calendar_dates.txt:\n",
      "\n",
      "   service_id,date,exception_type\n",
      "0   20220522_MTWTF--_1,20230628,1\n",
      "1   20220522_MTWTF--_3,20230628,1\n",
      "2  20220904_--W----_90,20230628,1\n",
      "3  20220904_--WT---_10,20230628,1\n",
      "4  20220904_M-W-F--_11,20230628,1\n",
      "\n",
      "--------------------------------------------\n",
      "\n",
      "Showing head for stop_times.txt:\n",
      "\n",
      "  trip_id,arrival_time,departure_time,stop_id,stop_sequence,stop_headsign,pickup_type\n",
      "0  509532,07:25:00,07:25:00,60000001,1,Glerárgata...                                 \n",
      "1  509532,07:26:00,07:26:00,60000069,2,Glerárgata...                                 \n",
      "2  509532,07:26:00,07:26:00,60000070,3,Þórunnarst...                                 \n",
      "3  509532,07:28:00,07:28:00,60000054,4,Þórunnarst...                                 \n",
      "4  509532,07:29:00,07:29:00,60000052,5,Þórunnarst...                                 \n",
      "\n",
      "--------------------------------------------\n",
      "\n",
      "Showing head for shapes.txt:\n",
      "\n",
      "  shape_id,shape_pt_lat,shape_pt_lon,shape_pt_sequence\n",
      "0  103_1006480_1_9,64.143303656234,-21.9146771540...  \n",
      "1  103_1006480_1_9,64.1434453760428,-21.914596393...  \n",
      "2  103_1006480_1_9,64.1435133034128,-21.914589457...  \n",
      "3  103_1006480_1_9,64.1435625936465,-21.914742839...  \n",
      "4  103_1006480_1_9,64.1437335485276,-21.915586475...  \n",
      "\n",
      "--------------------------------------------\n",
      "\n"
     ]
    }
   ],
   "source": [
    "import pandas as pd\n",
    "import os\n",
    "\n",
    "data_path = 'data'\n",
    "\n",
    "files = os.listdir(data_path)\n",
    "\n",
    "for file in files[:3]:\n",
    "    \n",
    "    if file.endswith('.txt'):\n",
    "        \n",
    "        df = pd.read_csv(os.path.join(data_path, file), sep='\\t' or ',')\n",
    "        print(f\"Showing head for {file}:\\n\")\n",
    "        print(df.head())\n",
    "        print(\"\\n--------------------------------------------\\n\")\n"
   ]
  },
  {
   "cell_type": "code",
   "execution_count": 3,
   "metadata": {},
   "outputs": [
    {
     "name": "stdout",
     "output_type": "stream",
     "text": [
      "Showing head for trips.txt:\n",
      "\n",
      "  route_id,service_id,trip_id,trip_headsign,trip_short_name,direction_id,block_id,shape_id\n",
      "0  AF.91,20220904_-----S-_26,516175,,,0,6193_91-A...                                      \n",
      "1  AF.91,20220904_-----S-_26,516183,,,1,6193_91-A...                                      \n",
      "2  AF.91,20220904_MTWTF--_27,516176,,,0,6189_91-A...                                      \n",
      "3  AF.91,20220904_MTWTF--_27,516179,,,0,6189_91-A...                                      \n",
      "4  AF.91,20220904_MTWTF--_27,516180,,,1,6189_91-A...                                      \n",
      "\n",
      "--------------------------------------------\n",
      "\n",
      "Showing head for stops.txt:\n",
      "\n",
      "   stop_id,stop_name,stop_lat,stop_lon,location_type\n",
      "0  10000802,Hamraborg,64.111089000000007,-21.9083...\n",
      "1  10000804,Sunnuhlíð,64.109082000000001,-21.9095...\n",
      "2       10000805,Kópavogslaug,64.109198,-21.917279,0\n",
      "3  10000806,Kársnesskóli,64.109191999999993,-21.9...\n",
      "4   10000807,Kópavör,64.109298999999993,-21.930667,0\n",
      "\n",
      "--------------------------------------------\n",
      "\n",
      "Showing head for routes.txt:\n",
      "\n",
      "  route_id,agency_id,route_short_name,route_long_name,route_type\n",
      "0           AF.91,1,91,Egilsstaðir <-> Norðfjörður,3            \n",
      "1      AF.92,1,92,Breiðdalsvík <-> Fáskrúðsfjörður,3            \n",
      "2         AF.93,1,93,Seyðisfjörður <-> Egilsstaðir,3            \n",
      "3                 AF.94,1,94,Breiðdalsvík <-> Höfn,3            \n",
      "4         AF.95,1,95,Egilsstaðir <-> Borgarfjörður,3            \n",
      "\n",
      "--------------------------------------------\n",
      "\n"
     ]
    }
   ],
   "source": [
    "for file in files[3:]:\n",
    "    \n",
    "    if file.endswith('.txt'):\n",
    "        \n",
    "        df = pd.read_csv(os.path.join(data_path, file), sep='\\t' or ',')\n",
    "        print(f\"Showing head for {file}:\\n\")\n",
    "        print(df.head())\n",
    "        print(\"\\n--------------------------------------------\\n\")\n"
   ]
  }
 ],
 "metadata": {
  "kernelspec": {
   "display_name": "lewagon",
   "language": "python",
   "name": "python3"
  },
  "language_info": {
   "codemirror_mode": {
    "name": "ipython",
    "version": 3
   },
   "file_extension": ".py",
   "mimetype": "text/x-python",
   "name": "python",
   "nbconvert_exporter": "python",
   "pygments_lexer": "ipython3",
   "version": "3.10.6"
  },
  "orig_nbformat": 4
 },
 "nbformat": 4,
 "nbformat_minor": 2
}
